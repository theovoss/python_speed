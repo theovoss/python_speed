{
 "metadata": {
  "name": "",
  "signature": "sha256:00923217de0e8e9884dda96e552edf14e7b5dc65725b10ee666c70533c7fc00d"
 },
 "nbformat": 3,
 "nbformat_minor": 0,
 "worksheets": [
  {
   "cells": [
    {
     "cell_type": "code",
     "collapsed": false,
     "input": [
      "import timeit\n",
      "import time"
     ],
     "language": "python",
     "metadata": {},
     "outputs": [],
     "prompt_number": 1
    },
    {
     "cell_type": "code",
     "collapsed": false,
     "input": [
      "# lookup speeds"
     ],
     "language": "python",
     "metadata": {},
     "outputs": [],
     "prompt_number": 2
    },
    {
     "cell_type": "code",
     "collapsed": false,
     "input": [
      "# List Lookup\n",
      "timeit.timeit(\"40 in list\", \"list=[x for x in range(100)]\", number=10000)"
     ],
     "language": "python",
     "metadata": {},
     "outputs": [
      {
       "metadata": {},
       "output_type": "pyout",
       "prompt_number": 3,
       "text": [
        "0.031666583676980324"
       ]
      }
     ],
     "prompt_number": 3
    },
    {
     "cell_type": "code",
     "collapsed": false,
     "input": [
      "# Set Lookup\n",
      "timeit.timeit(\"40 in s\", \"list=[x for x in range(100)]; s=set(list)\", number=10000)"
     ],
     "language": "python",
     "metadata": {},
     "outputs": [
      {
       "metadata": {},
       "output_type": "pyout",
       "prompt_number": 4,
       "text": [
        "0.0017693907936183334"
       ]
      }
     ],
     "prompt_number": 4
    },
    {
     "cell_type": "code",
     "collapsed": false,
     "input": [
      "list_time = timeit.timeit(\"40 in list\", \"list=[x for x in range(100)]\", number=10000)\n",
      "set_time = timeit.timeit(\"40 in s\", \"list=[x for x in range(100)]; s=set(list)\", number=10000)\n",
      "list_time/set_time"
     ],
     "language": "python",
     "metadata": {},
     "outputs": [
      {
       "metadata": {},
       "output_type": "pyout",
       "prompt_number": 5,
       "text": [
        "19.319249887031138"
       ]
      }
     ],
     "prompt_number": 5
    },
    {
     "cell_type": "code",
     "collapsed": false,
     "input": [
      "# Tuple Lookup\n",
      "timeit.timeit(\"40 in t\", \"list=[x for x in range(100)]; t=tuple(list)\", number=10000)"
     ],
     "language": "python",
     "metadata": {},
     "outputs": [
      {
       "metadata": {},
       "output_type": "pyout",
       "prompt_number": 6,
       "text": [
        "0.030335074342921237"
       ]
      }
     ],
     "prompt_number": 6
    },
    {
     "cell_type": "code",
     "collapsed": false,
     "input": [
      "# Test Appending"
     ],
     "language": "python",
     "metadata": {},
     "outputs": [],
     "prompt_number": 7
    },
    {
     "cell_type": "code",
     "collapsed": false,
     "input": [
      "# List Append\n",
      "timeit.timeit(\"list.append(101)\", \"list=[x for x in range(100)]\", number=10000)"
     ],
     "language": "python",
     "metadata": {},
     "outputs": [
      {
       "metadata": {},
       "output_type": "pyout",
       "prompt_number": 8,
       "text": [
        "0.0034981103058366325"
       ]
      }
     ],
     "prompt_number": 8
    },
    {
     "cell_type": "code",
     "collapsed": false,
     "input": [
      "# Set Add\n",
      "timeit.timeit(\"s.add(101)\", \"list=[x for x in range(100)]; s=set(list)\", number=10000)"
     ],
     "language": "python",
     "metadata": {},
     "outputs": [
      {
       "metadata": {},
       "output_type": "pyout",
       "prompt_number": 9,
       "text": [
        "0.003748219681175141"
       ]
      }
     ],
     "prompt_number": 9
    },
    {
     "cell_type": "code",
     "collapsed": false,
     "input": [
      "# Tuple\n",
      "timeit.timeit(\"t + (101,)\", \"list=[x for x in range(100)]; t=tuple(list)\", number=10000)"
     ],
     "language": "python",
     "metadata": {},
     "outputs": [
      {
       "metadata": {},
       "output_type": "pyout",
       "prompt_number": 10,
       "text": [
        "0.010742919871113837"
       ]
      }
     ],
     "prompt_number": 10
    },
    {
     "cell_type": "code",
     "collapsed": false,
     "input": [
      "# Math"
     ],
     "language": "python",
     "metadata": {},
     "outputs": [],
     "prompt_number": 11
    },
    {
     "cell_type": "code",
     "collapsed": false,
     "input": [
      "print(\"Add\")\n",
      "print(timeit.timeit(\"i += 1\", \"i = 0\", number=1000000))\n",
      "print(timeit.timeit(\"i += 100\", \"i = 0\", number=1000000))\n",
      "print(timeit.timeit(\"i = i + 1\", \"i = 0\", number=1000000))\n",
      "print(timeit.timeit(\"i = i + 100\", \"i = 0\", number=1000000))"
     ],
     "language": "python",
     "metadata": {},
     "outputs": [
      {
       "output_type": "stream",
       "stream": "stdout",
       "text": [
        "Add\n",
        "0.27316923168148377"
       ]
      },
      {
       "output_type": "stream",
       "stream": "stdout",
       "text": [
        "\n",
        "0.3782900500940951"
       ]
      },
      {
       "output_type": "stream",
       "stream": "stdout",
       "text": [
        "\n",
        "0.2828961297284641"
       ]
      },
      {
       "output_type": "stream",
       "stream": "stdout",
       "text": [
        "\n",
        "0.26662837737931766"
       ]
      },
      {
       "output_type": "stream",
       "stream": "stdout",
       "text": [
        "\n"
       ]
      }
     ],
     "prompt_number": 12
    },
    {
     "cell_type": "code",
     "collapsed": false,
     "input": [
      "print(\"Multiplications/Division\")\n",
      "print(timeit.timeit(\"i = i * 2\", \"i = 0\", number=1000000))\n",
      "print(timeit.timeit(\"i *= 2\", \"i = 0\", number=1000000))\n",
      "print(timeit.timeit(\"i = i / 2\", \"i = 0\", number=1000000))\n",
      "print(timeit.timeit(\"i /= 2\", \"i = 0\", number=1000000))"
     ],
     "language": "python",
     "metadata": {},
     "outputs": [
      {
       "output_type": "stream",
       "stream": "stdout",
       "text": [
        "Multiplications/Division\n",
        "0.17569347385577805"
       ]
      },
      {
       "output_type": "stream",
       "stream": "stdout",
       "text": [
        "\n",
        "0.1809780796997471"
       ]
      },
      {
       "output_type": "stream",
       "stream": "stdout",
       "text": [
        "\n",
        "0.5416167936662273"
       ]
      },
      {
       "output_type": "stream",
       "stream": "stdout",
       "text": [
        "\n",
        "0.5473423218132245"
       ]
      },
      {
       "output_type": "stream",
       "stream": "stdout",
       "text": [
        "\n"
       ]
      }
     ],
     "prompt_number": 13
    },
    {
     "cell_type": "code",
     "collapsed": false,
     "input": [
      "print(\"Other Math\")\n",
      "print(timeit.timeit(\"i = i // 2\", \"i = 0\", number=1000000))\n",
      "print(timeit.timeit(\"i = i % 2\", \"i = 0\", number=1000000))\n",
      "print(timeit.timeit(\"i = i ** 2\", \"i = 0\", number=1000000))"
     ],
     "language": "python",
     "metadata": {},
     "outputs": [
      {
       "output_type": "stream",
       "stream": "stdout",
       "text": [
        "Other Math\n",
        "0.1919509633582166"
       ]
      },
      {
       "output_type": "stream",
       "stream": "stdout",
       "text": [
        "\n",
        "0.19476678441065953"
       ]
      },
      {
       "output_type": "stream",
       "stream": "stdout",
       "text": [
        "\n",
        "0.859989303833097"
       ]
      },
      {
       "output_type": "stream",
       "stream": "stdout",
       "text": [
        "\n"
       ]
      }
     ],
     "prompt_number": 14
    },
    {
     "cell_type": "code",
     "collapsed": false,
     "input": [
      "# Loop Speeds"
     ],
     "language": "python",
     "metadata": {},
     "outputs": [],
     "prompt_number": 15
    },
    {
     "cell_type": "code",
     "collapsed": false,
     "input": [
      "# For Loop with range included in time\n",
      "timeit.timeit(\"for x in range(100): pass\", \"\", number=10000)"
     ],
     "language": "python",
     "metadata": {},
     "outputs": [
      {
       "metadata": {},
       "output_type": "pyout",
       "prompt_number": 16,
       "text": [
        "0.07998710682369126"
       ]
      }
     ],
     "prompt_number": 16
    },
    {
     "cell_type": "code",
     "collapsed": false,
     "input": [
      "# For Loop with range excluded from time\n",
      "timeit.timeit(\"for x in iterator: pass\", \"iterator = range(100)\", number=10000)"
     ],
     "language": "python",
     "metadata": {},
     "outputs": [
      {
       "metadata": {},
       "output_type": "pyout",
       "prompt_number": 17,
       "text": [
        "0.0636813439311803"
       ]
      }
     ],
     "prompt_number": 17
    },
    {
     "cell_type": "code",
     "collapsed": false,
     "input": [
      "# For Loop with enumeration\n",
      "timeit.timeit(\"for i, x in enumerate(iterator): pass\", \"iterator = range(100)\", number=10000)"
     ],
     "language": "python",
     "metadata": {},
     "outputs": [
      {
       "metadata": {},
       "output_type": "pyout",
       "prompt_number": 18,
       "text": [
        "0.1512861437505535"
       ]
      }
     ],
     "prompt_number": 18
    },
    {
     "cell_type": "code",
     "collapsed": false,
     "input": [
      "# While Loop\n",
      "timeit.timeit(\"while integer > 0: integer -= 1; pass\", \"integer = 100\", number=10000)"
     ],
     "language": "python",
     "metadata": {},
     "outputs": [
      {
       "metadata": {},
       "output_type": "pyout",
       "prompt_number": 19,
       "text": [
        "0.0022129738346823302"
       ]
      }
     ],
     "prompt_number": 19
    },
    {
     "cell_type": "code",
     "collapsed": false,
     "input": [
      "letters = [i for i in range(97, 123)]\n",
      "map(chr, letters)\n",
      "for_loop_time = 0\n",
      "j = 10000\n",
      "\n",
      "while j > 0:\n",
      "    j -= 1 \n",
      "    t1 = time.time()\n",
      "    for l in letters:\n",
      "        pass\n",
      "    t2 = time.time()\n",
      "    for_loop_time += t2 - t1\n",
      "for_loop_time"
     ],
     "language": "python",
     "metadata": {},
     "outputs": [
      {
       "metadata": {},
       "output_type": "pyout",
       "prompt_number": 20,
       "text": [
        "0.04400515556335449"
       ]
      }
     ],
     "prompt_number": 20
    },
    {
     "cell_type": "code",
     "collapsed": false,
     "input": [
      "# length of letters included in timing\n",
      "letters = [i for i in range(97, 123)]\n",
      "map(chr, letters)\n",
      "j = 10000\n",
      "while_loop_time = 0\n",
      "while j > 0:\n",
      "    j -= 1\n",
      "    i = 0\n",
      "    t1 = time.time()\n",
      "    while i < len(letters):\n",
      "        l = letters[i]\n",
      "        i += 1\n",
      "    t2 = time.time()\n",
      "    while_loop_time += t2 - t1\n",
      "while_loop_time"
     ],
     "language": "python",
     "metadata": {},
     "outputs": [
      {
       "metadata": {},
       "output_type": "pyout",
       "prompt_number": 21,
       "text": [
        "0.28302836418151855"
       ]
      }
     ],
     "prompt_number": 21
    },
    {
     "cell_type": "code",
     "collapsed": false,
     "input": [
      "# grabbing letters length becore while loop (outside of timing)\n",
      "letters = [i for i in range(97, 123)]\n",
      "map(chr, letters)\n",
      "j = 10000\n",
      "while_loop_time = 0\n",
      "while j > 0:\n",
      "    j -= 1\n",
      "    i = 0\n",
      "    length = len(letters)\n",
      "    t1 = time.time()\n",
      "    while i < length:\n",
      "        l = letters[i]\n",
      "        i += 1\n",
      "    t2 = time.time()\n",
      "    while_loop_time += t2 - t1\n",
      "while_loop_time"
     ],
     "language": "python",
     "metadata": {},
     "outputs": [
      {
       "metadata": {},
       "output_type": "pyout",
       "prompt_number": 22,
       "text": [
        "0.20601892471313477"
       ]
      }
     ],
     "prompt_number": 22
    },
    {
     "cell_type": "code",
     "collapsed": false,
     "input": [
      "timeit.timeit(\"len(letters)\", \"letters = [i for i in range(97, 123)]; map(chr, letters)\", number=260000)\n"
     ],
     "language": "python",
     "metadata": {},
     "outputs": [
      {
       "metadata": {},
       "output_type": "pyout",
       "prompt_number": 30,
       "text": [
        "0.0624155928371124"
       ]
      }
     ],
     "prompt_number": 30
    },
    {
     "cell_type": "code",
     "collapsed": false,
     "input": [],
     "language": "python",
     "metadata": {},
     "outputs": []
    }
   ],
   "metadata": {}
  }
 ]
}